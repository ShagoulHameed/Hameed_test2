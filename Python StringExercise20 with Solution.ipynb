{
 "cells": [
  {
   "cell_type": "code",
   "execution_count": 4,
   "metadata": {},
   "outputs": [],
   "source": [
    "words = \"google\"\n",
    "Dicresult = {} \n",
    "\n",
    "def char_frequency(words):\n",
    "\n",
    "    for char in words:\n",
    "\n",
    "        if char in Dicresult:\n",
    "            Dicresult[char] +=1 \n",
    "        else: \n",
    "            Dicresult[char] = 1 \n",
    "\n",
    "    return Dicresult\n",
    "\n",
    "\n"
   ]
  },
  {
   "cell_type": "code",
   "execution_count": 5,
   "metadata": {},
   "outputs": [
    {
     "name": "stdout",
     "output_type": "stream",
     "text": [
      "{'h': 1, 'e': 1, 'l': 3, 'o': 2, ' ': 1, 'w': 1, 'r': 1, 'd': 1}\n"
     ]
    }
   ],
   "source": [
    "string = \"hello world\"\n",
    "print(char_frequency(string))"
   ]
  },
  {
   "cell_type": "code",
   "execution_count": 6,
   "metadata": {},
   "outputs": [],
   "source": [
    "from collections import Counter\n"
   ]
  },
  {
   "cell_type": "code",
   "execution_count": null,
   "metadata": {},
   "outputs": [],
   "source": [
    "\n",
    "def char_frequency(input_string):\n",
    "    # Using Counter to count frequencies and converting to dictionary using dict comprehension\n",
    "    return {char: input_string.count(char) for char in set(input_string)}\n",
    "\n",
    "# Example usage\n",
    "string = \"hello world\"\n",
    "print(char_frequency(string))"
   ]
  },
  {
   "cell_type": "markdown",
   "metadata": {},
   "source": [
    "Calculate the length of a string"
   ]
  },
  {
   "cell_type": "code",
   "execution_count": 12,
   "metadata": {},
   "outputs": [
    {
     "name": "stdout",
     "output_type": "stream",
     "text": [
      "13\n"
     ]
    }
   ],
   "source": [
    "def calculatesrttin(input):\n",
    "        count = 0 \n",
    "        for i in input:\n",
    "            count +=1 \n",
    "        return count\n",
    "print(calculatesrttin(\"SHagoulhameed\"))"
   ]
  },
  {
   "cell_type": "markdown",
   "metadata": {},
   "source": [
    "Get a string made of the first 2 and the last 2 chars from a given a string"
   ]
  },
  {
   "cell_type": "code",
   "execution_count": 20,
   "metadata": {},
   "outputs": [],
   "source": [
    "def retruntwostrin(TEST):\n",
    "\n",
    "    if len(TEST) < 2 :\n",
    "\n",
    "        return \"\"' '\"\"\n",
    "    \n",
    "    return TEST[0:2] + TEST[-2:]"
   ]
  },
  {
   "cell_type": "code",
   "execution_count": 19,
   "metadata": {},
   "outputs": [
    {
     "name": "stdout",
     "output_type": "stream",
     "text": [
      "w3ce\n",
      "w3w3\n",
      " \n"
     ]
    }
   ],
   "source": [
    "print(retruntwostrin('w3resource'))  # Output: 'w3ce'\n",
    "print(retruntwostrin('w3'))          # Output: 'w3w3'\n",
    "print(retruntwostrin('w'))           # Output: '"
   ]
  },
  {
   "cell_type": "code",
   "execution_count": 21,
   "metadata": {},
   "outputs": [
    {
     "name": "stdout",
     "output_type": "stream",
     "text": [
      "$esta$t\n",
      "resta$t\n"
     ]
    }
   ],
   "source": [
    "# Define a function named change_char that takes one argument, 'str1'.\n",
    "def change_char(str1):\n",
    "    # Get the first character of the input string 'str1' and store it in the variable 'char'.\n",
    "    char = str1[0]\n",
    "\n",
    "    # Replace all occurrences of the character 'char' with '$' in the 'str1' string.\n",
    "    str1 = str1.replace(char, '$')\n",
    "    print(str1)\n",
    "    # Reconstruct the 'str1' string by placing the original 'char' as the first character\n",
    "    # followed by the modified string starting from the second character.\n",
    "    str1 = char + str1[1:]\n",
    "\n",
    "    # Return the modified 'str1' string.\n",
    "    return str1\n",
    "\n",
    "# Call the change_char function with the argument 'restart' and print the result.\n",
    "print(change_char('restart'))  # Output: 'resta$t' \n"
   ]
  },
  {
   "cell_type": "code",
   "execution_count": 22,
   "metadata": {},
   "outputs": [
    {
     "name": "stdout",
     "output_type": "stream",
     "text": [
      "xyc\n",
      "abz\n",
      "xyc abz\n"
     ]
    }
   ],
   "source": [
    "# Define a function named chars_mix_up that takes two arguments, 'a' and 'b'.\n",
    "def chars_mix_up(a, b):\n",
    "    # Create a new string 'new_a' by taking the first two characters from 'b' and combining\n",
    "    # them with the characters from 'a' starting from the third character.\n",
    "    new_a = b[:2] + a[2:]\n",
    "    print(new_a)\n",
    "    # Create a new string 'new_b' by taking the first two characters from 'a' and combining\n",
    "    # them with the characters from 'b' starting from the third character.\n",
    "    new_b = a[:2] + b[2:]\n",
    "    print(new_b)\n",
    "    # Concatenate 'new_a', a space character, and 'new_b' to create a single string.\n",
    "    return new_a + ' ' + new_b\n",
    "\n",
    "# Call the chars_mix_up function with the arguments 'abc' and 'xyz' and print the result.\n",
    "print(chars_mix_up('abc', 'xyz'))  # Output: 'xyc abz' \n"
   ]
  },
  {
   "cell_type": "code",
   "execution_count": 23,
   "metadata": {},
   "outputs": [
    {
     "name": "stdout",
     "output_type": "stream",
     "text": [
      "ab\n",
      "abcing\n",
      "stringly\n"
     ]
    }
   ],
   "source": [
    "# Define a function named add_string that takes one argument, 'str1'.\n",
    "def add_string(str1):\n",
    "    # Get the length of the input string 'str1' and store it in the variable 'length'.\n",
    "    length = len(str1)\n",
    "\n",
    "    # Check if the length of 'str1' is greater than 2 characters.\n",
    "    if length > 2:\n",
    "        # If the last three characters of 'str1' are 'ing', add 'ly' to the end.\n",
    "        if str1[-3:] == 'ing':\n",
    "            str1 += 'ly'\n",
    "        else:\n",
    "            # If the last three characters are not 'ing', add 'ing' to the end.\n",
    "            str1 += 'ing'\n",
    "\n",
    "    # Return the modified 'str1'.\n",
    "    return str1\n",
    "\n",
    "# Call the add_string function with different input strings and print the results.\n",
    "print(add_string('ab'))      # Output: 'ab'\n",
    "print(add_string('abc'))     # Output: 'abcing'\n",
    "print(add_string('string'))  # Output: 'stringly'\n"
   ]
  },
  {
   "cell_type": "code",
   "execution_count": 25,
   "metadata": {},
   "outputs": [
    {
     "name": "stdout",
     "output_type": "stream",
     "text": [
      "[(3, 'PHP'), (7, 'Backend'), (9, 'Exercises')]\n",
      "\n",
      "Longest word:  Exercises\n",
      "Length of the longest word:  9\n"
     ]
    }
   ],
   "source": [
    "# Define a function named find_longest_word that takes a list of words as the argument, 'words_list'.\n",
    "def find_longest_word(words_list):\n",
    "    # Create an empty list 'word_len' to store pairs of word lengths and the corresponding words.\n",
    "    word_len = []\n",
    "\n",
    "    # Iterate through each word 'n' in the 'words_list'.\n",
    "    for n in words_list:\n",
    "        # Append a tuple containing the length of the word and the word itself to 'word_len'.\n",
    "        word_len.append((len(n), n))\n",
    "\n",
    "    # Sort the list 'word_len' based on the word lengths (ascending order).\n",
    "    word_len.sort()\n",
    "    print(word_len)\n",
    "    # Return the length and the word of the last item in the sorted list (which is the longest word).\n",
    "    return word_len[-1][0], word_len[-1][1]\n",
    "\n",
    "# Call the find_longest_word function with a list of words and store the result in 'result'.\n",
    "result = find_longest_word([\"PHP\", \"Exercises\", \"Backend\"])\n",
    "\n",
    "# Print the longest word and its length.\n",
    "print(\"\\nLongest word: \", result[1])\n",
    "print(\"Length of the longest word: \", result[0])\n"
   ]
  },
  {
   "cell_type": "code",
   "execution_count": 26,
   "metadata": {},
   "outputs": [
    {
     "name": "stdout",
     "output_type": "stream",
     "text": [
      "Exercises\n"
     ]
    }
   ],
   "source": [
    "def find_longest_word(words_list):\n",
    "    # Using max to find the tuple with the longest word\n",
    "    return max(words_list, key=len)\n",
    "\n",
    "# Example usage\n",
    "result = find_longest_word([\"PHP\", \"Exercises\", \"Backend\"])\n",
    "print(result)  # Output: 'Exercises'\n"
   ]
  },
  {
   "cell_type": "code",
   "execution_count": 4,
   "metadata": {},
   "outputs": [
    {
     "name": "stdout",
     "output_type": "stream",
     "text": [
      "Pyt\n",
      "on\n",
      "Pyton\n"
     ]
    }
   ],
   "source": [
    "# Define a function named remove_char that takes two arguments, 'str' and 'n'.\n",
    "def remove_char(str, n):\n",
    "    # Create a new string 'first_part' that includes all characters from the beginning of 'str' up to the character at index 'n' (not inclusive).\n",
    "    first_part = str[:n]\n",
    "    print(first_part)\n",
    "    # Create a new string 'last_part' that includes all characters from the character at index 'n+1' to the end of 'str'.\n",
    "    last_part = str[n+1:]\n",
    "    print(last_part)\n",
    "    # Return the result by concatenating 'first_part' and 'last_part', effectively removing the character at index 'n'.\n",
    "    return first_part + last_part\n",
    "\n",
    "# Call the remove_char function with different input strings and character positions and print the results.\n",
    "# print(remove_char('Python', 0))  # Output: 'ython'\n",
    "print(remove_char('Python', 3))  # Output: 'Pyton'\n",
    "# print(remove_char('Python', 5))  # Output: 'Pytho'\n"
   ]
  },
  {
   "cell_type": "code",
   "execution_count": 6,
   "metadata": {},
   "outputs": [
    {
     "name": "stdout",
     "output_type": "stream",
     "text": [
      "dbca\n",
      "52341\n"
     ]
    }
   ],
   "source": [
    "# Define a function named change_string that takes one argument, 'str1'.\n",
    "def change_string(str1):\n",
    "    # Return a modified version of the input string 'str1' by rearranging its characters.\n",
    "    # It takes the last character and moves it to the front, while keeping the middle characters unchanged.\n",
    "    # return str1[-1:] + str1[1:-1] + str1[:1]\n",
    "    return str1[-1:] + str1[1:-1] + str1[:1]\n",
    "\n",
    "# Call the change_string function with different input strings and print the results.\n",
    "print(change_string('abcd'))   # Output: 'dbca'\n",
    "print(change_string('12345'))  # Output: '52341' \n"
   ]
  },
  {
   "cell_type": "code",
   "execution_count": 7,
   "metadata": {},
   "outputs": [
    {
     "name": "stdout",
     "output_type": "stream",
     "text": [
      "{'the': 2, 'quick': 1, 'brown': 1, 'fox': 1, 'jumps': 1, 'over': 1, 'lazy': 1, 'dog.': 1}\n"
     ]
    }
   ],
   "source": [
    "# Define a function named word_count that takes one argument, 'str'.\n",
    "def word_count(str):\n",
    "    # Create an empty dictionary named 'counts' to store word frequencies.\n",
    "    counts = dict()\n",
    "    \n",
    "    # Split the input string 'str' into a list of words using spaces as separators and store it in the 'words' list.\n",
    "    words = str.split()\n",
    "\n",
    "    # Iterate through each word in the 'words' list.\n",
    "    for word in words:\n",
    "        # Check if the word is already in the 'counts' dictionary.\n",
    "        if word in counts:\n",
    "            # If the word is already in the dictionary, increment its frequency by 1.\n",
    "            counts[word] += 1\n",
    "        else:\n",
    "            # If the word is not in the dictionary, add it to the dictionary with a frequency of 1.\n",
    "            counts[word] = 1\n",
    "\n",
    "    # Return the 'counts' dictionary, which contains word frequencies.\n",
    "    return counts\n",
    "\n",
    "# Call the word_count function with an input sentence and print the results.\n",
    "print( word_count('the quick brown fox jumps over the lazy dog.'))\n"
   ]
  },
  {
   "cell_type": "code",
   "execution_count": 8,
   "metadata": {},
   "outputs": [
    {
     "name": "stdout",
     "output_type": "stream",
     "text": [
      "Counter({'the': 2, 'quick': 1, 'brown': 1, 'fox': 1, 'jumps': 1, 'over': 1, 'lazy': 1, 'dog.': 1})\n"
     ]
    }
   ],
   "source": [
    "from collections import Counter\n",
    "\n",
    "# Define the function word_count using collections.Counter\n",
    "def word_count(str):\n",
    "    # Split the string into words and use Counter to count word frequencies\n",
    "    return Counter(str.split())\n",
    "\n",
    "# Example usage\n",
    "print(word_count('the quick brown fox jumps over the lazy dog.'))\n"
   ]
  },
  {
   "cell_type": "code",
   "execution_count": 10,
   "metadata": {},
   "outputs": [
    {
     "name": "stdout",
     "output_type": "stream",
     "text": [
      "the:2\n",
      "quick:1\n",
      "brown:1\n",
      "fox:1\n",
      "jumps:1\n",
      "over:1\n",
      "lazy:1\n",
      "dog.:1\n"
     ]
    }
   ],
   "source": [
    "from collections import Counter\n",
    "tex1 = \"the quick brown fox jumps over the lazy dog.\"\n",
    "result  = Counter(tex1.split())\n",
    "\n",
    "for char,count in result.items():\n",
    "    print(f\"{char}:{count}\")"
   ]
  },
  {
   "cell_type": "code",
   "execution_count": 14,
   "metadata": {},
   "outputs": [
    {
     "name": "stdout",
     "output_type": "stream",
     "text": [
      "{'the': 3, 'quick': 'occer oce', 'brown': 'occer oce', 'fox': 'occer oce', 'jumps': 'occer oce', 'over': 'occer oce', 'lazy': 'occer oce', 'dog': 2}\n"
     ]
    }
   ],
   "source": [
    "from collections import Counter\n",
    "\n",
    "# Define the function word_count using collections.Counter\n",
    "def word_count(str):\n",
    "    # Split the string into words and use Counter to count word frequencies\n",
    "    word_counts = Counter(str.split())\n",
    "    \n",
    "    # Filter and return only the words that occur more than once\n",
    "    return {word: count if count > 1 else \"occer oce\" for word, count in word_counts.items() }\n",
    "\n",
    "# Example usage\n",
    "print(word_count('the quick brown fox jumps over the lazy dog the dog'))\n"
   ]
  },
  {
   "cell_type": "code",
   "execution_count": 15,
   "metadata": {},
   "outputs": [
    {
     "name": "stdout",
     "output_type": "stream",
     "text": [
      "{'my': 2, 'name': 1, 'is': 2, 'shagoul': 1, 'hameed,': 1, 'named': 1, 'shaogul': 1, 'hameed': 1}\n"
     ]
    }
   ],
   "source": [
    "from collections import Counter\n",
    "\n",
    "def word_count(str):\n",
    "    counts = Counter(str.split())\n",
    "    return {word: count for word,count in counts.items()}\n",
    "\n",
    "print(word_count(\"my name is shagoul hameed, my named is shaogul hameed\"))"
   ]
  },
  {
   "cell_type": "code",
   "execution_count": 24,
   "metadata": {},
   "outputs": [
    {
     "name": "stdout",
     "output_type": "stream",
     "text": [
      "{'google.com': 1, 'hameed': 1, 'my': 1}\n"
     ]
    }
   ],
   "source": [
    "def char_frequency(str1):\n",
    "    wordount = Counter(str1.split())\n",
    "    return dict(wordount)\n",
    "\n",
    "print(char_frequency('google.com hameed my ')) "
   ]
  },
  {
   "cell_type": "code",
   "execution_count": 25,
   "metadata": {},
   "outputs": [
    {
     "name": "stdout",
     "output_type": "stream",
     "text": [
      "My favorite language is  HAMEED\n",
      "My favorite language is  hameed\n"
     ]
    }
   ],
   "source": [
    "# Prompt the user to enter their favorite language and store the input in the variable 'user_input'.\n",
    "user_input = input(\"What's your favorite language? \")\n",
    "\n",
    "# Print the message \"My favorite language is\" followed by the user's input converted to uppercase.\n",
    "print(\"My favorite language is \", user_input.upper())\n",
    "\n",
    "# Print the message \"My favorite language is\" followed by the user's input converted to lowercase.\n",
    "print(\"My favorite language is \", user_input.lower()) \n"
   ]
  },
  {
   "cell_type": "code",
   "execution_count": 26,
   "metadata": {},
   "outputs": [
    {
     "name": "stdout",
     "output_type": "stream",
     "text": [
      "My name in Upper HAMEED\n",
      "My name in Upper hameed\n"
     ]
    }
   ],
   "source": [
    "userinput = input(\"Enter your name?\")\n",
    "\n",
    "print(\"My name in Upper\", userinput.upper())\n",
    "print(\"My name in Upper\", userinput.lower())"
   ]
  },
  {
   "cell_type": "code",
   "execution_count": 29,
   "metadata": {},
   "outputs": [
    {
     "name": "stdout",
     "output_type": "stream",
     "text": [
      "['red', 'blue', 'green', 'green', 'red', 'blue']\n",
      "blue,green,red\n"
     ]
    }
   ],
   "source": [
    "# Prompt the user to input a comma-separated sequence of words and store it in the variable 'items'.\n",
    "items = input(\"Input comma-separated sequence of words\")\n",
    "\n",
    "# Split the input 'items' into a list of words by using the comma as the separator and store it in the 'words' list.\n",
    "words = [word for word in items.split(\",\")]\n",
    "print(words)\n",
    "# Convert the 'words' list into a set to remove any duplicate words, then convert it back to a list.\n",
    "# Sort the resulting list alphabetically and join the words with commas.\n",
    "# Finally, print the sorted and comma-separated list of unique words.\n",
    "print(\",\".join(sorted(list(set(words)))))\n"
   ]
  },
  {
   "cell_type": "code",
   "execution_count": 31,
   "metadata": {},
   "outputs": [
    {
     "name": "stdout",
     "output_type": "stream",
     "text": [
      "[[hameed]]\n",
      "{{PHP}}\n",
      "<<HTML>>\n"
     ]
    }
   ],
   "source": [
    "# Define a function named insert_string_middle that takes two arguments, 'str' and 'word'.\n",
    "def insert_string_middle(str, word):\n",
    "    # Create and return a new string by concatenating the first two characters of 'str',\n",
    "    # followed by the 'word', and then the remaining characters of 'str' starting from the third character.\n",
    "    return str[:2] + word + str[2:]\n",
    "\n",
    "# Call the insert_string_middle function with different input strings and words and print the results.\n",
    "print(insert_string_middle('[[]]', 'hameed'))  # Output: '[Python]'\n",
    "print(insert_string_middle('{{}}', 'PHP'))    # Output: '{{PHP}}'\n",
    "print(insert_string_middle('<<>>', 'HTML'))    # Output: '<>'\n"
   ]
  },
  {
   "cell_type": "code",
   "execution_count": 32,
   "metadata": {},
   "outputs": [
    {
     "name": "stdout",
     "output_type": "stream",
     "text": [
      "on\n",
      "onononon\n",
      "es\n",
      "eseseses\n"
     ]
    }
   ],
   "source": [
    "# Define a function named insert_end that takes one argument, 'str'.\n",
    "def insert_end(str):\n",
    "    # Extract the last two characters from the input string 'str' and store them in 'sub_str'.\n",
    "    sub_str = str[-2:]\n",
    "    print(sub_str)\n",
    "    # Multiply 'sub_str' by 4 and return the result, effectively repeating the last two characters four times.\n",
    "    return sub_str * 4\n",
    "\n",
    "# Call the insert_end function with different input strings and print the results.\n",
    "print(insert_end('Python'))    # Output: 'onononon'\n",
    "print(insert_end('Exercises')) # Output: 'eseseses'\n"
   ]
  },
  {
   "cell_type": "code",
   "execution_count": 34,
   "metadata": {},
   "outputs": [
    {
     "name": "stdout",
     "output_type": "stream",
     "text": [
      "ham\n"
     ]
    }
   ],
   "source": [
    "def firest_three(str):\n",
    "\n",
    "    if len(str) > 3 :\n",
    "        return str[:3]\n",
    "    else:\n",
    "        return str \n",
    "    \n",
    "print(firest_three(\"ham\"))"
   ]
  },
  {
   "cell_type": "code",
   "execution_count": 35,
   "metadata": {},
   "outputs": [
    {
     "name": "stdout",
     "output_type": "stream",
     "text": [
      "https://www.w3resource.com/python-exercises\n",
      "https://www.w3resource.com/python\n"
     ]
    }
   ],
   "source": [
    "# Define a variable 'str1' and assign it the value of the provided string.\n",
    "str1 = 'https://www.w3resource.com/python-exercises/string'\n",
    "\n",
    "# Use the rsplit() method with '/' as the separator to split the string from the right,\n",
    "# and [0] to get the part before the last '/' character. Then, print the result.\n",
    "print(str1.rsplit('/', 1)[0])  # Output: 'https://www.w3resource.com/python-exercises'\n",
    "\n",
    "# Use the rsplit() method with '-' as the separator to split the string from the right,\n",
    "# and [0] to get the part before the last '-' character. Then, print the result.\n",
    "print(str1.rsplit('-', 1)[0])  # Output: 'https://www.w3resource.com/python' \n"
   ]
  },
  {
   "cell_type": "code",
   "execution_count": 41,
   "metadata": {},
   "outputs": [
    {
     "name": "stdout",
     "output_type": "stream",
     "text": [
      "report.pdf\n",
      "pdf\n"
     ]
    }
   ],
   "source": [
    "# Define a string variable that represents a file path\n",
    "file_path = '/home/user/documents/report.pdf'\n",
    "\n",
    "# Use rsplit to split the string by '/' and get the directory path\n",
    "directory = file_path.rsplit('/', 1)[1]\n",
    "print(directory)  # Output: '/home/user/documents'\n",
    "\n",
    "# Use rsplit to split the string by '.' and get the file name without extension\n",
    "file_name_without_extension = file_path.rsplit('.', 1)[1]\n",
    "print(file_name_without_extension)  # Output: '/home/user/documents/report'\n"
   ]
  },
  {
   "cell_type": "code",
   "execution_count": 45,
   "metadata": {},
   "outputs": [
    {
     "name": "stdout",
     "output_type": "stream",
     "text": [
      "dcba\n",
      "python\n"
     ]
    }
   ],
   "source": [
    "# Define a function named reverse_string that takes one argument, 'str1'.\n",
    "def reverse_string(str1):\n",
    "    # Check if the length of the input string 'str1' is divisible by 4 with no remainder.\n",
    "    if len(str1) % 4 == 0:\n",
    "        # If the length is divisible by 4, reverse the characters in 'str1' and join them together.\n",
    "        # return ''.join(reversed(str1))\n",
    "        return str1[::-1]\n",
    "    \n",
    "    # If the length of 'str1' is not divisible by 4, return 'str1' as it is.\n",
    "    return str1\n",
    "\n",
    "# Call the reverse_string function with different input strings and print the results.\n",
    "print(reverse_string('abcd'))   # Output: 'dcba' (Reversed)\n",
    "print(reverse_string('python')) # Output: 'python' (Not reversed)\n"
   ]
  },
  {
   "cell_type": "code",
   "execution_count": null,
   "metadata": {},
   "outputs": [],
   "source": []
  }
 ],
 "metadata": {
  "kernelspec": {
   "display_name": ".venv",
   "language": "python",
   "name": "python3"
  },
  "language_info": {
   "codemirror_mode": {
    "name": "ipython",
    "version": 3
   },
   "file_extension": ".py",
   "mimetype": "text/x-python",
   "name": "python",
   "nbconvert_exporter": "python",
   "pygments_lexer": "ipython3",
   "version": "3.11.1"
  }
 },
 "nbformat": 4,
 "nbformat_minor": 2
}
